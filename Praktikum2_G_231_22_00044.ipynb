{
  "nbformat": 4,
  "nbformat_minor": 0,
  "metadata": {
    "colab": {
      "provenance": [],
      "authorship_tag": "ABX9TyNu2AQkdvx8lypiT2LnLJ2G",
      "include_colab_link": true
    },
    "kernelspec": {
      "name": "python3",
      "display_name": "Python 3"
    },
    "language_info": {
      "name": "python"
    }
  },
  "cells": [
    {
      "cell_type": "markdown",
      "metadata": {
        "id": "view-in-github",
        "colab_type": "text"
      },
      "source": [
        "<a href=\"https://colab.research.google.com/github/vinarestanti/Praktikum2_G.231.22.0044/blob/main/Praktikum2_G_231_22_00044.ipynb\" target=\"_parent\"><img src=\"https://colab.research.google.com/assets/colab-badge.svg\" alt=\"Open In Colab\"/></a>"
      ]
    },
    {
      "cell_type": "code",
      "execution_count": null,
      "metadata": {
        "id": "P0DU26nudjZV",
        "colab": {
          "base_uri": "https://localhost:8080/"
        },
        "outputId": "e83f5863-c729-4b5f-a7c9-e0a4da2692cf"
      },
      "outputs": [
        {
          "output_type": "stream",
          "name": "stdout",
          "text": [
            "Elemen ketiga dari tuple: 3\n",
            "Slicing tuple: (2, 3, 'Haii vina')\n",
            "Unpacked values: 1 2 3 Haii vina 4.5\n"
          ]
        }
      ],
      "source": [
        "# Membuat sebuah tuple\n",
        "my_tuple = (1, 2, 3, 'Haii vina', 4.5)\n",
        "\n",
        "# Mengakses elemen-elemen tuple\n",
        "print(\"Elemen ketiga dari tuple:\", my_tuple[2])\n",
        "print(\"Slicing tuple:\", my_tuple[1:4])\n",
        "\n",
        "# Tuple packing dan unpacking\n",
        "a, b, c, d, e = my_tuple\n",
        "print(\"Unpacked values:\", a, b, c, d, e)"
      ]
    },
    {
      "cell_type": "code",
      "source": [
        "# Membuat sebuah dictionary\n",
        "my_dict = {\n",
        "    'nama': 'Vina Restanti',\n",
        "    'umur': 20,\n",
        "    'pekerjaan': 'Programer'\n",
        "}\n",
        "\n",
        "# Mengakses nilai berdasarkan kunci\n",
        "print(\"Nama:\", my_dict['nama'])\n",
        "print(\"Umur:\", my_dict['umur'])\n",
        "\n",
        "# Menambahkan entri baru\n",
        "my_dict['lokasi'] = 'Semarang'\n",
        "\n",
        "# Menghapus entri\n",
        "del my_dict['pekerjaan']\n",
        "\n",
        "# Iterasi melalui dictionary\n",
        "print(\"Isi dictionary:\")\n",
        "for key, value in my_dict.items():\n",
        "    print(key, \":\", value)"
      ],
      "metadata": {
        "colab": {
          "base_uri": "https://localhost:8080/"
        },
        "id": "G49T1I8fO8p0",
        "outputId": "029faf46-156e-415f-ce0b-b3dd08b6ebe5"
      },
      "execution_count": null,
      "outputs": [
        {
          "output_type": "stream",
          "name": "stdout",
          "text": [
            "Nama: Vina Restanti\n",
            "Umur: 20\n",
            "Isi dictionary:\n",
            "nama : Vina Restanti\n",
            "umur : 20\n",
            "lokasi : Semarang\n"
          ]
        }
      ]
    }
  ]
}