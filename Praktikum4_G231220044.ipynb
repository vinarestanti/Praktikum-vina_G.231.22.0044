{
  "nbformat": 4,
  "nbformat_minor": 0,
  "metadata": {
    "colab": {
      "provenance": [],
      "authorship_tag": "ABX9TyMoFv8bMjjuRsmiG7ac8zVk",
      "include_colab_link": true
    },
    "kernelspec": {
      "name": "python3",
      "display_name": "Python 3"
    },
    "language_info": {
      "name": "python"
    }
  },
  "cells": [
    {
      "cell_type": "markdown",
      "metadata": {
        "id": "view-in-github",
        "colab_type": "text"
      },
      "source": [
        "<a href=\"https://colab.research.google.com/github/vinarestanti/Praktikum-vina_G.231.22.0044/blob/main/Praktikum4_G231220044.ipynb\" target=\"_parent\"><img src=\"https://colab.research.google.com/assets/colab-badge.svg\" alt=\"Open In Colab\"/></a>"
      ]
    },
    {
      "cell_type": "code",
      "execution_count": 1,
      "metadata": {
        "id": "09ahm9_LTcdi",
        "colab": {
          "base_uri": "https://localhost:8080/"
        },
        "outputId": "a1875cb3-d510-4c6d-ce0d-88c0184b9e81"
      },
      "outputs": [
        {
          "output_type": "stream",
          "name": "stdout",
          "text": [
            "\"The quick brown fox jumps over the lazy dog\"\n",
            "saya bersama teman teman sedang mengerjakan tugas dikampus.\n"
          ]
        }
      ],
      "source": [
        "def isPangram(s):\n",
        "    # Inisialisasi set kosong untuk menyimpan karakter yang ditemukan\n",
        "    found_characters = set()\n",
        "\n",
        "    # Konversi string ke huruf kecil\n",
        "    s = s.lower()\n",
        "\n",
        "    # Iterasi melalui setiap karakter dalam string\n",
        "    for char in s:\n",
        "        if 'a' <= char <= 'z' and char not in found_characters:\n",
        "            found_characters.add(char)\n",
        "\n",
        "    # Jika set found_characters berisi 26 huruf alfabet, maka itu adalah pangram\n",
        "    return len(found_characters) == 26\n",
        "\n",
        "# Contoh penggunaan\n",
        "sentence = \"The quick brown fox jumps over the lazy dog\"\n",
        "if isPangram(sentence):\n",
        "    print('\"' + sentence + '\"')\n",
        "    print(\"saya bersama teman teman sedang mengerjakan tugas dikampus.\")\n",
        "else:\n",
        "    print('\"' + sentence + '\"')\n",
        "    print(\"saya bersama teman teman sedang mengerjakan tugas dikampus.\")\n"
      ]
    },
    {
      "cell_type": "code",
      "source": [
        "def isPangram(s):\n",
        "    # Inisialisasi dictionary kosong untuk melacak karakter yang ditemukan\n",
        "    char_count = {}\n",
        "\n",
        "    # Konversi string ke huruf kecil\n",
        "    s = s.lower()\n",
        "\n",
        "    # Iterasi melalui setiap karakter dalam string\n",
        "    for char in s:\n",
        "        # Cek apakah karakter adalah huruf alfabet\n",
        "        if 'a' <= char <= 'z':\n",
        "            # Tambahkan karakter ke dalam dictionary atau tambahkan 1 ke hitungannya\n",
        "            char_count[char] = char_count.get(char, 0) + 1\n",
        "\n",
        "    # Jika dictionary char_count memiliki 26 kunci (huruf alfabet), maka itu adalah pangram\n",
        "    return len(char_count) == 26\n",
        "\n",
        "# Contoh penggunaan\n",
        "sentence = \"The quick brown fox jumps over the lazy dog\"\n",
        "if isPangram(sentence):\n",
        "    print('\"' + sentence + '\"')\n",
        "    print(\"saya bersama teman-teman sedang mengerjakan tugas di kampus.\")\n",
        "else:\n",
        "    print('\"' + sentence + '\"')\n",
        "    print(\"saya bersama teman-teman sedang mengerjakan tugas di kampus.\")\n"
      ],
      "metadata": {
        "colab": {
          "base_uri": "https://localhost:8080/"
        },
        "id": "WOPEWsK8cjlo",
        "outputId": "27d85fd6-9e4e-4522-f21a-654ce67faaf1"
      },
      "execution_count": 3,
      "outputs": [
        {
          "output_type": "stream",
          "name": "stdout",
          "text": [
            "\"The quick brown fox jumps over the lazy dog\"\n",
            "saya bersama teman-teman sedang mengerjakan tugas di kampus.\n"
          ]
        }
      ]
    },
    {
      "cell_type": "code",
      "source": [
        "def isPangram(s):\n",
        "    s = s.lower()  # Konversi string ke huruf kecil\n",
        "    alphabet = \"abcdefghijklmnopqrstuvwxyz\"\n",
        "\n",
        "#Iterate melalui semua indeks dari mark[]\n",
        "    for char in alphabet:\n",
        "        if char not in s:\n",
        "            return False\n",
        "\n",
        "#Jika tidak, pengembalian bukan Pangram\n",
        "    return True\n",
        "\n",
        "# Contoh penggunaan\n",
        "sentence = \"The five boxing wizards jump quickly.\"\n",
        "if isPangram(sentence):\n",
        "    print('\"' + sentence + '\"')\n",
        "    print(\"adalah sebuah pangram.\")\n",
        "else:\n",
        "    print('\"' + sentence + '\"')\n",
        "    print(\"bukan sebuah pangram.\")\n"
      ],
      "metadata": {
        "colab": {
          "base_uri": "https://localhost:8080/"
        },
        "id": "E4sAKmCzcfHi",
        "outputId": "67613b7b-fa79-4323-fa60-aef3b50f5a80"
      },
      "execution_count": 2,
      "outputs": [
        {
          "output_type": "stream",
          "name": "stdout",
          "text": [
            "\"The five boxing wizards jump quickly.\"\n",
            "adalah sebuah pangram.\n"
          ]
        }
      ]
    },
    {
      "cell_type": "code",
      "source": [
        "def isPangram(s):\n",
        "    # 1. Buat tanda vektor bool[] dengan ukuran 26.\n",
        "    mark = [False] * 26\n",
        "\n",
        "    # 2. Ulangi semua karakter string s\n",
        "    for char in s:\n",
        "        # Tandai karakter yang sesuai\n",
        "        if 'a' <= char <= 'z':\n",
        "            mark[ord(char) - ord('a')] = True\n",
        "        elif 'A' <= char <= 'Z':\n",
        "            mark[ord(char) - ord('A')] = True\n",
        "\n",
        "    # 3. Iterate melalui semua indeks dari mark[]\n",
        "    for m in mark:\n",
        "        # a. Jika semua indeks ditandai dikunjungi maka pengembaliannya adalah Pangram\n",
        "        if not m:\n",
        "            return False\n",
        "\n",
        "    # b. Jika tidak, pengembalian bukan Pangram\n",
        "    return True\n",
        "\n",
        "# Contoh penggunaan\n",
        "sentence = \"The quick brown fox jumps over the lazy dog\"\n",
        "if isPangram(sentence):\n",
        "    print('\"' + sentence + '\"')\n",
        "    print(\"adalah sebuah pangram.\")\n",
        "else:\n",
        "    print('\"' + sentence + '\"')\n",
        "    print(\"bukan sebuah pangram.\")\n"
      ],
      "metadata": {
        "colab": {
          "base_uri": "https://localhost:8080/"
        },
        "id": "CrD4TupsYZzT",
        "outputId": "cfe470fd-1371-4204-8f4a-e32eabe05d0a"
      },
      "execution_count": null,
      "outputs": [
        {
          "output_type": "stream",
          "name": "stdout",
          "text": [
            "\"The quick brown fox jumps over the lazy dog\"\n",
            "adalah sebuah pangram.\n"
          ]
        }
      ]
    }
  ]
}