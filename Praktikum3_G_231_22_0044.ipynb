{
  "nbformat": 4,
  "nbformat_minor": 0,
  "metadata": {
    "colab": {
      "provenance": [],
      "authorship_tag": "ABX9TyNSXkRpnQjqjW7IGI9WS/iD",
      "include_colab_link": true
    },
    "kernelspec": {
      "name": "python3",
      "display_name": "Python 3"
    },
    "language_info": {
      "name": "python"
    }
  },
  "cells": [
    {
      "cell_type": "markdown",
      "metadata": {
        "id": "view-in-github",
        "colab_type": "text"
      },
      "source": [
        "<a href=\"https://colab.research.google.com/github/vinarestanti/Praktikum2_G.231.22.0044/blob/main/Praktikum3_G_231_22_0044.ipynb\" target=\"_parent\"><img src=\"https://colab.research.google.com/assets/colab-badge.svg\" alt=\"Open In Colab\"/></a>"
      ]
    },
    {
      "cell_type": "code",
      "execution_count": null,
      "metadata": {
        "id": "kR3TrGpwTZGB"
      },
      "outputs": [],
      "source": [
        "\n",
        " def convert (s):\n",
        "\n",
        "  new = \"\"\n",
        "  for x in s:\n",
        "    new += x\n",
        "\n",
        "    return new\n",
        "\n",
        "  #driver code\n",
        "  s = ['g','e','e','k','s','f','o','r','g','e','e','k','s']\n",
        "  print(convert (s))"
      ]
    },
    {
      "cell_type": "code",
      "source": [
        "  def Huruf (s) :\n",
        "    abjad = \"\"\n",
        "    for x in s :\n",
        "      abjad += x\n",
        "\n",
        "    return abjad\n",
        "\n",
        "  # driver code\n",
        "  s = ['p','r','o','g','r','a','m','m','i','n','g']\n",
        "  print(Huruf (s))"
      ],
      "metadata": {
        "colab": {
          "base_uri": "https://localhost:8080/"
        },
        "id": "vT3qavneTceg",
        "outputId": "a08c7857-84dd-4c6d-bc5f-8cd1cae0a980"
      },
      "execution_count": null,
      "outputs": [
        {
          "output_type": "stream",
          "name": "stdout",
          "text": [
            "programming\n"
          ]
        }
      ]
    }
  ]
}