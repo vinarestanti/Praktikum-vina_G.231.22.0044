{
  "nbformat": 4,
  "nbformat_minor": 0,
  "metadata": {
    "colab": {
      "provenance": [],
      "authorship_tag": "ABX9TyN7UP4Y+SW9iOrjJcDM60fw",
      "include_colab_link": true
    },
    "kernelspec": {
      "name": "python3",
      "display_name": "Python 3"
    },
    "language_info": {
      "name": "python"
    }
  },
  "cells": [
    {
      "cell_type": "markdown",
      "metadata": {
        "id": "view-in-github",
        "colab_type": "text"
      },
      "source": [
        "<a href=\"https://colab.research.google.com/github/vinarestanti/Praktikum-vina_G.231.22.0044/blob/main/StackQueue_G_231_22_0044.ipynb\" target=\"_parent\"><img src=\"https://colab.research.google.com/assets/colab-badge.svg\" alt=\"Open In Colab\"/></a>"
      ]
    },
    {
      "cell_type": "code",
      "execution_count": 3,
      "metadata": {
        "colab": {
          "base_uri": "https://localhost:8080/"
        },
        "id": "w_NXBtPGGufH",
        "outputId": "a7eb9c69-5659-45f2-8e90-fc7fbe21c124"
      },
      "outputs": [
        {
          "output_type": "stream",
          "name": "stdout",
          "text": [
            "deque(['Ram', 'Tarun', 'Asif', 'John'])\n",
            "deque(['Ram', 'Tarun', 'Asif', 'John', 'Akbar'])\n",
            "deque(['Ram', 'Tarun', 'Asif', 'John', 'Akbar', 'Birbal'])\n",
            "Ram\n",
            "Tarun\n",
            "deque(['Asif', 'John', 'Akbar', 'Birbal'])\n"
          ]
        }
      ],
      "source": [
        "from collections import deque\n",
        "queue = deque([\"Ram\", \"Tarun\", \"Asif\", \"John\"])\n",
        "print(queue)\n",
        "queue.append(\"Akbar\")\n",
        "print(queue)\n",
        "queue.append(\"Birbal\")\n",
        "print(queue)\n",
        "print(queue.popleft())\n",
        "print(queue.popleft())\n",
        "print(queue)\n"
      ]
    },
    {
      "cell_type": "code",
      "source": [
        "def TowerOfHanoi(n, dr, bantuan, menuju):\n",
        "    if n == 0:\n",
        "        return\n",
        "    TowerOfHanoi(n-1, dr, menuju, bantuan)\n",
        "    print(\"Pindah disk\", n, \"dari\", dr, \"ke\", menuju)\n",
        "    TowerOfHanoi(n-1, bantuan, dr, menuju)\n",
        "\n",
        "# Drive code\n",
        "N = 3\n",
        "\n",
        "# A, B, C are the name of rods\n",
        "TowerOfHanoi(N, 'A', 'B', 'C')\n"
      ],
      "metadata": {
        "colab": {
          "base_uri": "https://localhost:8080/"
        },
        "id": "F2lSlxupLuLF",
        "outputId": "f529d69d-c7c7-40fc-877f-0a27f3c030b4"
      },
      "execution_count": 4,
      "outputs": [
        {
          "output_type": "stream",
          "name": "stdout",
          "text": [
            "Pindah disk 1 dari A ke C\n",
            "Pindah disk 2 dari A ke B\n",
            "Pindah disk 1 dari C ke B\n",
            "Pindah disk 3 dari A ke C\n",
            "Pindah disk 1 dari B ke A\n",
            "Pindah disk 2 dari B ke C\n",
            "Pindah disk 1 dari A ke C\n"
          ]
        }
      ]
    },
    {
      "cell_type": "markdown",
      "source": [
        "MENGURUTKAN DALAM SEBUAH STACK"
      ],
      "metadata": {
        "id": "xM4plIOePLFa"
      }
    },
    {
      "cell_type": "code",
      "source": [
        "def sortStack(input):\n",
        "    tmpStack = []\n",
        "    while len(input) > 0:\n",
        "        # Pop out the first element\n",
        "        tmp = input[-1]\n",
        "        input.pop()\n",
        "\n",
        "        # While temporary stack is not empty and top of stack is smaller than temp\n",
        "        while len(tmpStack) > 0 and tmpStack[-1] < tmp:\n",
        "            # Pop from temporary stack and append it to the input stack\n",
        "            input.append(tmpStack[-1])\n",
        "            tmpStack.pop()\n",
        "\n",
        "        # Append temp in temporary stack\n",
        "        tmpStack.append(tmp)\n",
        "\n",
        "    return tmpStack\n",
        "\n",
        "def sortArrayUsingStack(arr, n):\n",
        "    # Append array elements to stack\n",
        "    inputStack = []\n",
        "    i = 0\n",
        "    while i < n:\n",
        "        inputStack.append(arr[i])\n",
        "        i = i + 1\n",
        "\n",
        "    # Sort the temporary stack\n",
        "    tmpStack = sortStack(inputStack)\n",
        "    i = 0\n",
        "\n",
        "    # Put stack elements in arr[]\n",
        "    while i < n:\n",
        "        arr[i] = tmpStack[-1]\n",
        "        tmpStack.pop()\n",
        "        i = i + 1\n",
        "\n",
        "    return arr\n",
        "\n",
        "# Drive code\n",
        "arr = [10, 5, 15, 45]\n",
        "n = len(arr)\n",
        "\n",
        "arr = sortArrayUsingStack(arr, n)\n",
        "i = 0\n",
        "\n",
        "while i < n:\n",
        "    print(arr[i], end=\" \")\n",
        "    i = i + 1\n"
      ],
      "metadata": {
        "colab": {
          "base_uri": "https://localhost:8080/"
        },
        "id": "aq2k6SiQPIIE",
        "outputId": "a8887d52-1dad-4ab0-f173-f865efd48f93"
      },
      "execution_count": null,
      "outputs": [
        {
          "output_type": "stream",
          "name": "stdout",
          "text": [
            "5 10 15 45 "
          ]
        }
      ]
    },
    {
      "cell_type": "code",
      "source": [],
      "metadata": {
        "id": "FBzeIyArqjXW"
      },
      "execution_count": null,
      "outputs": []
    }
  ]
}