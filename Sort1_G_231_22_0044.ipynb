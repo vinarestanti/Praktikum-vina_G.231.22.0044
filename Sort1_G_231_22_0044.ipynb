{
  "nbformat": 4,
  "nbformat_minor": 0,
  "metadata": {
    "colab": {
      "provenance": [],
      "authorship_tag": "ABX9TyNOeG8JhA1Xw+rBAVOJ9tti",
      "include_colab_link": true
    },
    "kernelspec": {
      "name": "python3",
      "display_name": "Python 3"
    },
    "language_info": {
      "name": "python"
    }
  },
  "cells": [
    {
      "cell_type": "markdown",
      "metadata": {
        "id": "view-in-github",
        "colab_type": "text"
      },
      "source": [
        "<a href=\"https://colab.research.google.com/github/vinarestanti/Praktikum-vina_G.231.22.0044/blob/main/Sort1_G_231_22_0044.ipynb\" target=\"_parent\"><img src=\"https://colab.research.google.com/assets/colab-badge.svg\" alt=\"Open In Colab\"/></a>"
      ]
    },
    {
      "cell_type": "code",
      "execution_count": null,
      "metadata": {
        "colab": {
          "base_uri": "https://localhost:8080/"
        },
        "id": "BPdUhAznYQT9",
        "outputId": "f0ff9043-5aee-455c-e742-2a284c6661b3"
      },
      "outputs": [
        {
          "output_type": "stream",
          "name": "stdout",
          "text": [
            "Array yang sudah terurut:\n",
            "12 16 25 25 30 34 45 "
          ]
        }
      ],
      "source": [
        "def bubbleSort(arr):\n",
        "    # Dapatkan panjang array\n",
        "    n = len(arr)\n",
        "    # Inisialisasi bendera untuk memeriksa apakah ada pertukaran\n",
        "    swapped = False\n",
        "\n",
        "    # Traverse melalui semua elemen dalam array\n",
        "    for i in range(n - 1):\n",
        "        # Elemen terakhir sebanyak i sudah terurut, jadi tidak perlu memeriksanya\n",
        "        for j in range(0, n - i - 1):\n",
        "            # Bandingkan elemen yang berdekatan dan tukar jika mereka tidak berurutan\n",
        "            if arr[j] > arr[j + 1]:\n",
        "                swapped = True\n",
        "                arr[j], arr[j + 1] = arr[j + 1], arr[j]\n",
        "\n",
        "        # Jika tidak ada dua elemen yang ditukar dalam perulangan dalam, array sudah terurut\n",
        "        if not swapped:\n",
        "            break\n",
        "\n",
        "# Kode pengujian di bawah ini\n",
        "arr = [45, 34, 25, 12, 30, 25, 16]\n",
        "bubbleSort(arr)\n",
        "\n",
        "# Cetak array yang sudah terurut\n",
        "print(\"Array yang sudah terurut:\")\n",
        "for i in range(len(arr)):\n",
        "    print(\"%d\" % arr[i], end=\" \")\n"
      ]
    },
    {
      "cell_type": "code",
      "source": [
        "#selection sort\n",
        "import sys\n",
        "\n",
        "# Array yang akan diurutkan\n",
        "A = [64, 25, 12, 22, 11]\n",
        "\n",
        "# Traverse melalui setiap elemen dalam array\n",
        "for i in range(len(A)):\n",
        "    # Inisialisasi indeks minimum\n",
        "    min_idx = i\n",
        "\n",
        "    # Traverse melalui elemen yang belum diurutkan\n",
        "    for j in range(i + 1, len(A)):\n",
        "        # Temukan indeks elemen minimum\n",
        "        if A[min_idx] > A[j]:\n",
        "            min_idx = j\n",
        "\n",
        "    # Tukar elemen terkecil dengan elemen pertama yang belum diurutkan\n",
        "    A[i], A[min_idx] = A[min_idx], A[i]\n",
        "\n",
        "# Tampilkan array yang sudah diurutkan\n",
        "print(\"Sorted array:\")\n",
        "for i in range(len(A)):\n",
        "    print(\"%d\" % A[i], end=\" \")\n"
      ],
      "metadata": {
        "colab": {
          "base_uri": "https://localhost:8080/"
        },
        "id": "1Pa9efHNZjsI",
        "outputId": "4ef730cd-d596-46df-9eab-ea1a69391f37"
      },
      "execution_count": null,
      "outputs": [
        {
          "output_type": "stream",
          "name": "stdout",
          "text": [
            "Sorted array:\n",
            "11 12 22 25 64 "
          ]
        }
      ]
    },
    {
      "cell_type": "code",
      "source": [
        "# Fungsi untuk melakukan pengurutan sisipan\n",
        "def insertionSort(arr):\n",
        "    # Traverse melalui semua elemen dalam array\n",
        "    for i in range(1, len(arr)):\n",
        "        # Simpan nilai saat ini dalam variabel kunci\n",
        "        key = arr[i]\n",
        "        # Posisi awal untuk membandingkan dengan elemen sebelumnya\n",
        "        j = i - 1\n",
        "\n",
        "        # Pindahkan elemen-elemen yang lebih besar dari kunci ke posisi selanjutnya\n",
        "        # sampai menemukan posisi yang tepat untuk menyisipkan kunci\n",
        "        while j >= 0 and key < arr[j]:\n",
        "            arr[j + 1] = arr[j]\n",
        "            j -= 1\n",
        "\n",
        "        # Sisipkan kunci ke dalam posisi yang sesuai\n",
        "        arr[j + 1] = key\n",
        "\n",
        "# Kode pengujian di bawah ini\n",
        "arr = [45, 35, 18, 10, 4]\n",
        "insertionSort(arr)\n",
        "\n",
        "# Tampilkan array yang sudah diurutkan\n",
        "print(\"Sorted array:\")\n",
        "for i in range(len(arr)):\n",
        "    print(\"%d\" % arr[i])\n"
      ],
      "metadata": {
        "colab": {
          "base_uri": "https://localhost:8080/"
        },
        "id": "VJgoFo5BaBNH",
        "outputId": "9d9bc3b1-4d27-4967-d358-eaf6afbda28a"
      },
      "execution_count": null,
      "outputs": [
        {
          "output_type": "stream",
          "name": "stdout",
          "text": [
            "Sorted array:\n",
            "4\n",
            "10\n",
            "18\n",
            "35\n",
            "45\n"
          ]
        }
      ]
    }
  ]
}